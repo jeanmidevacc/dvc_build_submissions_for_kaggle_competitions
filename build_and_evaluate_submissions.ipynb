{
 "cells": [
  {
   "cell_type": "code",
   "execution_count": 5,
   "id": "5230687b-22b1-43b6-a776-fabd09799412",
   "metadata": {},
   "outputs": [],
   "source": [
    "import random\n",
    "\n",
    "import pandas as pd\n",
    "\n",
    "from sklearn.metrics import mean_squared_error\n",
    "\n",
    "input_folder_path = \"../dvc_build_kaggle_competition/data/kaggle/\""
   ]
  },
  {
   "cell_type": "code",
   "execution_count": 4,
   "id": "9668a481-4c3a-4002-8e5f-615a9da85ff5",
   "metadata": {},
   "outputs": [],
   "source": [
    "dfp_test = pd.read_csv(input_folder_path + \"test.csv\").sort_values(\"Id\")\n",
    "dfp_solution = pd.read_csv(input_folder_path + \"solution.csv\").sort_values(\"Id\")"
   ]
  },
  {
   "cell_type": "code",
   "execution_count": 7,
   "id": "d3b3ba92-463d-4944-8292-1e923987552b",
   "metadata": {},
   "outputs": [],
   "source": [
    "# Build a random sbmission\n",
    "random.seed(12)\n",
    "dfp_submission = dfp_test.copy()\n",
    "dfp_submission[\"Interest\"] = dfp_submission[\"Id\"].apply(lambda id_: int(100 * random.random()))\n",
    "dfp_submission.to_csv(\"./data/random_submission.csv\", index=None)"
   ]
  },
  {
   "cell_type": "code",
   "execution_count": 18,
   "id": "4c6b92ac-71f0-4a4a-99c9-678b72671149",
   "metadata": {},
   "outputs": [],
   "source": [
    "dfp_submission = pd.read_csv(\"./data/random_submission.csv\").sort_values(\"Id\")\n",
    "dfp_submission.rename(columns={\"Interest\" : \"Prediction\"}, inplace=True)\n",
    "dfp_solution = pd.read_csv(input_folder_path + \"solution.csv\").sort_values(\"Id\")\n",
    "dfp_to_evaluate = pd.merge(dfp_submission, dfp_solution, on=[\"Id\"])"
   ]
  },
  {
   "cell_type": "code",
   "execution_count": 25,
   "id": "3823ef61-8e71-4fd5-b871-e94375c12005",
   "metadata": {},
   "outputs": [
    {
     "name": "stdout",
     "output_type": "stream",
     "text": [
      "Private 37.51537184941661\n",
      "Public 40.5583299089102\n"
     ]
    },
    {
     "data": {
      "text/plain": [
       "{'rmse_on_private_solution': 37.51537184941661,\n",
       " 'rmse_on_public_solution': 40.5583299089102}"
      ]
     },
     "execution_count": 25,
     "metadata": {},
     "output_type": "execute_result"
    }
   ],
   "source": [
    "metrics = {}\n",
    "for usage in [\"Private\", \"Public\"]:\n",
    "    dfp_to_evaluate_select = dfp_to_evaluate[dfp_to_evaluate[\"Usage\"] == usage]\n",
    "    rmse = mean_squared_error(dfp_to_evaluate_select[\"Interest\"].tolist(), dfp_to_evaluate_select[\"Prediction\"].tolist(), squared=False)\n",
    "    print(usage, rmse)\n",
    "    metrics[f\"rmse_on_{usage.lower()}_solution\"] = rmse\n",
    "metrics"
   ]
  },
  {
   "cell_type": "code",
   "execution_count": 20,
   "id": "44b01c76-417b-4a3a-a016-8151e8854d5b",
   "metadata": {},
   "outputs": [
    {
     "data": {
      "text/html": [
       "<div>\n",
       "<style scoped>\n",
       "    .dataframe tbody tr th:only-of-type {\n",
       "        vertical-align: middle;\n",
       "    }\n",
       "\n",
       "    .dataframe tbody tr th {\n",
       "        vertical-align: top;\n",
       "    }\n",
       "\n",
       "    .dataframe thead th {\n",
       "        text-align: right;\n",
       "    }\n",
       "</style>\n",
       "<table border=\"1\" class=\"dataframe\">\n",
       "  <thead>\n",
       "    <tr style=\"text-align: right;\">\n",
       "      <th></th>\n",
       "      <th>Id</th>\n",
       "      <th>Prediction</th>\n",
       "      <th>Interest</th>\n",
       "      <th>Usage</th>\n",
       "    </tr>\n",
       "  </thead>\n",
       "  <tbody>\n",
       "    <tr>\n",
       "      <th>0</th>\n",
       "      <td>00235c43-c572-4d84-aa62-0c7104401fc6</td>\n",
       "      <td>47</td>\n",
       "      <td>62</td>\n",
       "      <td>Private</td>\n",
       "    </tr>\n",
       "    <tr>\n",
       "      <th>1</th>\n",
       "      <td>00354a03-6545-4cd3-b5a4-57c7847c91b1</td>\n",
       "      <td>65</td>\n",
       "      <td>28</td>\n",
       "      <td>Private</td>\n",
       "    </tr>\n",
       "    <tr>\n",
       "      <th>2</th>\n",
       "      <td>0063e291-86c5-416f-a1d1-3e887ce41203</td>\n",
       "      <td>66</td>\n",
       "      <td>69</td>\n",
       "      <td>Private</td>\n",
       "    </tr>\n",
       "    <tr>\n",
       "      <th>3</th>\n",
       "      <td>01ed6025-a6de-4da6-ac1e-013a0a0deb81</td>\n",
       "      <td>14</td>\n",
       "      <td>56</td>\n",
       "      <td>Public</td>\n",
       "    </tr>\n",
       "    <tr>\n",
       "      <th>4</th>\n",
       "      <td>02b3bd10-441d-4d01-9494-5dc9ec136f56</td>\n",
       "      <td>1</td>\n",
       "      <td>64</td>\n",
       "      <td>Private</td>\n",
       "    </tr>\n",
       "    <tr>\n",
       "      <th>...</th>\n",
       "      <td>...</td>\n",
       "      <td>...</td>\n",
       "      <td>...</td>\n",
       "      <td>...</td>\n",
       "    </tr>\n",
       "    <tr>\n",
       "      <th>635</th>\n",
       "      <td>fdff36f5-599f-4c4d-8487-4da57844f31a</td>\n",
       "      <td>86</td>\n",
       "      <td>31</td>\n",
       "      <td>Private</td>\n",
       "    </tr>\n",
       "    <tr>\n",
       "      <th>636</th>\n",
       "      <td>fe1dc6fb-7efe-4713-bf6c-2dbdcae5da0e</td>\n",
       "      <td>18</td>\n",
       "      <td>77</td>\n",
       "      <td>Public</td>\n",
       "    </tr>\n",
       "    <tr>\n",
       "      <th>637</th>\n",
       "      <td>ff46de8a-44b7-4d24-af05-1d677efef307</td>\n",
       "      <td>6</td>\n",
       "      <td>61</td>\n",
       "      <td>Private</td>\n",
       "    </tr>\n",
       "    <tr>\n",
       "      <th>638</th>\n",
       "      <td>ffd38947-c57d-4ffc-98f7-37852fabcb0f</td>\n",
       "      <td>90</td>\n",
       "      <td>23</td>\n",
       "      <td>Private</td>\n",
       "    </tr>\n",
       "    <tr>\n",
       "      <th>639</th>\n",
       "      <td>fffe816f-bc1c-465e-b649-3e5f6b659c92</td>\n",
       "      <td>0</td>\n",
       "      <td>17</td>\n",
       "      <td>Public</td>\n",
       "    </tr>\n",
       "  </tbody>\n",
       "</table>\n",
       "<p>640 rows × 4 columns</p>\n",
       "</div>"
      ],
      "text/plain": [
       "                                       Id  Prediction  Interest    Usage\n",
       "0    00235c43-c572-4d84-aa62-0c7104401fc6          47        62  Private\n",
       "1    00354a03-6545-4cd3-b5a4-57c7847c91b1          65        28  Private\n",
       "2    0063e291-86c5-416f-a1d1-3e887ce41203          66        69  Private\n",
       "3    01ed6025-a6de-4da6-ac1e-013a0a0deb81          14        56   Public\n",
       "4    02b3bd10-441d-4d01-9494-5dc9ec136f56           1        64  Private\n",
       "..                                    ...         ...       ...      ...\n",
       "635  fdff36f5-599f-4c4d-8487-4da57844f31a          86        31  Private\n",
       "636  fe1dc6fb-7efe-4713-bf6c-2dbdcae5da0e          18        77   Public\n",
       "637  ff46de8a-44b7-4d24-af05-1d677efef307           6        61  Private\n",
       "638  ffd38947-c57d-4ffc-98f7-37852fabcb0f          90        23  Private\n",
       "639  fffe816f-bc1c-465e-b649-3e5f6b659c92           0        17   Public\n",
       "\n",
       "[640 rows x 4 columns]"
      ]
     },
     "execution_count": 20,
     "metadata": {},
     "output_type": "execute_result"
    }
   ],
   "source": [
    "dfp_to_evaluate"
   ]
  },
  {
   "cell_type": "code",
   "execution_count": null,
   "id": "d63296f9-ecdf-4a93-8e88-ea14c15c1677",
   "metadata": {},
   "outputs": [],
   "source": []
  }
 ],
 "metadata": {
  "kernelspec": {
   "display_name": "dvc_kaggle",
   "language": "python",
   "name": "dvc_kaggle"
  },
  "language_info": {
   "codemirror_mode": {
    "name": "ipython",
    "version": 3
   },
   "file_extension": ".py",
   "mimetype": "text/x-python",
   "name": "python",
   "nbconvert_exporter": "python",
   "pygments_lexer": "ipython3",
   "version": "3.7.12"
  }
 },
 "nbformat": 4,
 "nbformat_minor": 5
}
